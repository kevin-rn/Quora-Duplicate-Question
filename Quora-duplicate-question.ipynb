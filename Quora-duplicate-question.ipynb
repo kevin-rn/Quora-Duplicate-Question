{
 "cells": [
  {
   "cell_type": "markdown",
   "source": [
    "# Quora Question Pairs challenge"
   ],
   "metadata": {
    "collapsed": false
   }
  },
  {
   "cell_type": "code",
   "execution_count": 1,
   "outputs": [
    {
     "name": "stderr",
     "output_type": "stream",
     "text": [
      "[nltk_data] Downloading package wordnet to\n",
      "[nltk_data]     C:\\Users\\kevin\\AppData\\Roaming\\nltk_data...\n",
      "[nltk_data]   Package wordnet is already up-to-date!\n"
     ]
    },
    {
     "data": {
      "text/plain": "True"
     },
     "execution_count": 1,
     "metadata": {},
     "output_type": "execute_result"
    }
   ],
   "source": [
    "import nltk\n",
    "import pandas as pd\n",
    "from sklearn.ensemble import RandomForestClassifier\n",
    "from xgboost import XGBClassifier\n",
    "from nltk.stem import WordNetLemmatizer\n",
    "import re\n",
    "import json\n",
    "nltk.download('wordnet')"
   ],
   "metadata": {
    "collapsed": false
   }
  },
  {
   "cell_type": "markdown",
   "source": [
    "Functions for loading data and perform preprocessing on the questions by:\n",
    "- Setting text to lowercase\n",
    "- Replace symbols and characters to text format ($ = dollar)\n",
    "- Replacing contractions (you're = you are)\n",
    "- Lemmatization\n",
    "- removing leading and tracing whitespaces"
   ],
   "metadata": {
    "collapsed": false
   }
  },
  {
   "cell_type": "code",
   "execution_count": 2,
   "outputs": [],
   "source": [
    "def pre_process(txt):\n",
    "    def replace_all(t, dic):\n",
    "        for i, j in dic.items():\n",
    "            t = t.replace(i, j)\n",
    "        return t\n",
    "\n",
    "    txt = str(txt).lower()\n",
    "\n",
    "    with open('data/replacechars.json', 'r') as JSON:\n",
    "        json_dict = json.load(JSON)\n",
    "\n",
    "    text = replace_all(txt, json_dict)\n",
    "    text = re.sub(r'([0-9]+)000000000', r'\\1b', text)\n",
    "    text = re.sub(r'([0-9]+)000000', r'\\1m', text)\n",
    "    text = re.sub(r'([0-9]+)000', r'\\1k', text)\n",
    "    lemmatizer = WordNetLemmatizer()\n",
    "    text =  lemmatizer.lemmatize(text)\n",
    "\n",
    "    return text.strip()"
   ],
   "metadata": {
    "collapsed": false
   }
  },
  {
   "cell_type": "code",
   "execution_count": 3,
   "outputs": [],
   "source": [
    "def load_data(filename):\n",
    "    df = pd.read_csv(filename, index_col='id')\n",
    "    df['question1'] = df['question1'].apply(pre_process)\n",
    "    df['question2'] = df['question2'].apply(pre_process)\n",
    "    return df"
   ],
   "metadata": {
    "collapsed": false
   }
  },
  {
   "cell_type": "markdown",
   "source": [
    "### (Partial) String Matching\n",
    "Baseline method for detecting duplicate Quora questions"
   ],
   "metadata": {
    "collapsed": false
   }
  },
  {
   "cell_type": "code",
   "execution_count": 11,
   "outputs": [],
   "source": [
    "def string_matching():\n",
    "    df = load_data('data/Test set.csv')\n",
    "    df['is_duplicate'] = ((df['question1'] == df['question2']) | df['question1'].isin(df['question2']) | df['question2'].isin(df['question1'])).astype(int)\n",
    "    return df"
   ],
   "metadata": {
    "collapsed": false
   }
  },
  {
   "cell_type": "code",
   "execution_count": 10,
   "outputs": [],
   "source": [
    "# string_matching().to_csv('data/string_match.csv')"
   ],
   "metadata": {
    "collapsed": false
   }
  },
  {
   "cell_type": "markdown",
   "source": [
    "Helper methods for extracting features on both training as test set"
   ],
   "metadata": {
    "collapsed": false
   }
  },
  {
   "cell_type": "code",
   "execution_count": 5,
   "outputs": [],
   "source": [
    "def word_count(entry):\n",
    "    q1_set = set(entry['question1'].split(\" \"))\n",
    "    q2_set = set(entry['question2'].split(\" \"))\n",
    "    common = len(q1_set & q2_set)\n",
    "    total = (len(q1_set) + len(q2_set))\n",
    "    shared = round(common/total, 2)\n",
    "    return common, total, shared"
   ],
   "metadata": {
    "collapsed": false
   }
  },
  {
   "cell_type": "code",
   "execution_count": 6,
   "outputs": [],
   "source": [
    "def dataframe_features():\n",
    "    # training set\n",
    "    df_train = load_data('data/Development set.csv')\n",
    "    df_train[['common', 'total', 'shared']] = df_train.apply(word_count, axis=1, result_type='expand')\n",
    "    df_train = df_train.drop(columns=['qid1', 'qid2', 'question1', 'question2'])\n",
    "    x_train = df_train.iloc[:, 1:].values\n",
    "    y_train = df_train.iloc[:, 0].values  # is_duplicated\n",
    "\n",
    "    # test set\n",
    "    df_test = load_data('data/Test set.csv')\n",
    "    df_test[['common', 'total', 'shared']] = df_test.apply(word_count, axis=1, result_type='expand')\n",
    "    df_test = df_test.drop(columns=['qid1', 'qid2', 'question1', 'question2', '?'])\n",
    "    x_test = df_test.values\n",
    "\n",
    "    return x_train, y_train, x_test, df_test"
   ],
   "metadata": {
    "collapsed": false
   }
  },
  {
   "cell_type": "markdown",
   "source": [
    "### Random Forest Classifier predictions"
   ],
   "metadata": {
    "collapsed": false
   }
  },
  {
   "cell_type": "code",
   "execution_count": 7,
   "outputs": [],
   "source": [
    "def rf_predictions():\n",
    "    x_train, y_train, x_test, df_test = dataframe_features()\n",
    "    cf = RandomForestClassifier()\n",
    "    cf.fit(x_train, y_train)\n",
    "    df_test['is_duplicate'] = cf.predict(x_test)\n",
    "    return df_test"
   ],
   "metadata": {
    "collapsed": false
   }
  },
  {
   "cell_type": "code",
   "execution_count": null,
   "outputs": [],
   "source": [
    "# rf_predictions().tocsv('data/random_forrest.csv')"
   ],
   "metadata": {
    "collapsed": false
   }
  },
  {
   "cell_type": "markdown",
   "source": [
    "### XGB Classifier predictions"
   ],
   "metadata": {
    "collapsed": false
   }
  },
  {
   "cell_type": "code",
   "execution_count": 8,
   "outputs": [],
   "source": [
    "def xgb_predictions():\n",
    "    x_train, y_train, x_test, df_test = dataframe_features()\n",
    "    xgb = XGBClassifier()\n",
    "    xgb.fit(x_train, y_train)\n",
    "    df_test['is_duplicate'] = xgb.predict(x_test)\n",
    "    return df_test"
   ],
   "metadata": {
    "collapsed": false
   }
  },
  {
   "cell_type": "code",
   "execution_count": null,
   "outputs": [],
   "source": [
    "# xgb_predictions().to_csv('data/xgb.csv')"
   ],
   "metadata": {
    "collapsed": false
   }
  }
 ],
 "metadata": {
  "kernelspec": {
   "display_name": "Python 3",
   "language": "python",
   "name": "python3"
  },
  "language_info": {
   "codemirror_mode": {
    "name": "ipython",
    "version": 2
   },
   "file_extension": ".py",
   "mimetype": "text/x-python",
   "name": "python",
   "nbconvert_exporter": "python",
   "pygments_lexer": "ipython2",
   "version": "2.7.6"
  }
 },
 "nbformat": 4,
 "nbformat_minor": 0
}
